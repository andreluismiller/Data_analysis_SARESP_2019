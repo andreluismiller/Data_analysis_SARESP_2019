{
  "nbformat": 4,
  "nbformat_minor": 0,
  "metadata": {
    "colab": {
      "provenance": [],
      "mount_file_id": "13pEEZOscm9E2VFWMGxLqmmntiK-4WN96",
      "authorship_tag": "ABX9TyMQIm0hH652SHDTMK3b5Spn"
    },
    "kernelspec": {
      "name": "python3",
      "display_name": "Python 3"
    },
    "language_info": {
      "name": "python"
    }
  },
  "cells": [
    {
      "cell_type": "code",
      "metadata": {
        "id": "R4b5R2qz_4mM"
      },
      "source": [
        "# Import needed library\n",
        "import pandas as pd"
      ],
      "execution_count": null,
      "outputs": []
    },
    {
      "cell_type": "markdown",
      "source": [
        "## 1) GET DATA"
      ],
      "metadata": {
        "id": "_ruBGBNpx3-T"
      }
    },
    {
      "cell_type": "markdown",
      "source": [
        "The main prupose of this step is 1) import base CSVs files as dataframe 2) perform Pandas required data types transformations 3) group data by year/class and 4) save groups as local files (csv), to be used in the next step. "
      ],
      "metadata": {
        "id": "PrvcpfrK0f1y"
      }
    },
    {
      "cell_type": "code",
      "source": [
        "# Import and transforme csv into dataframe (includes optimization by selecting only relevant columns)\n",
        "saresp2021_df = pd.read_csv('/content/drive/MyDrive/SARESP - Avaliação pentanual/MICRODADOS_SARESP_2021.csv', delimiter=',', skiprows=0, \n",
        "                            usecols=['SERIE_ANO', 'TP_SEXO', 'Tem_Nec', 'profic_lp', 'profic_mat', 'classific_lp', 'classific_mat', 'validade'],\n",
        "                            low_memory=False)"
      ],
      "metadata": {
        "id": "Bz2ak26DxTF8"
      },
      "execution_count": null,
      "outputs": []
    },
    {
      "cell_type": "markdown",
      "source": [
        "#### TIP!\n",
        "Iniciate by the most recent files. This way version and conventions paramns will be easily detected (and you will save time and work on file's standarzide)"
      ],
      "metadata": {
        "id": "umYQefsRx0Z_"
      }
    },
    {
      "cell_type": "markdown",
      "source": [
        "###### 2019 files has others decode paramns and therefore demands others paramns, including delimiter (;) and columns names, as shown above:\n"
      ],
      "metadata": {
        "id": "X78mfmvYzMk2"
      }
    },
    {
      "cell_type": "code",
      "source": [
        "# saresp2019_df = pd.read_csv('/content/drive/MyDrive/SARESP - Avaliação pentanual/MICRODADOS_SARESP_2019.csv', \n",
        "#                             delimiter=';', \n",
        "#                             skiprows=0, \n",
        "#                             usecols=['SERIE', 'TP_SEXO', 'Tem_Nec', 'profic_lp', 'profic_mat', 'classific_lp', 'classific_mat', 'VALIDADE'],\n",
        "#                             low_memory=False)\n"
      ],
      "metadata": {
        "id": "sSGVR2zUyxmY"
      },
      "execution_count": null,
      "outputs": []
    },
    {
      "cell_type": "code",
      "source": [
        "# Dataframe initial inspection\n",
        "saresp2021_df.head()"
      ],
      "metadata": {
        "id": "1N2SPUR4yN2t"
      },
      "execution_count": null,
      "outputs": []
    },
    {
      "cell_type": "markdown",
      "source": [
        "## 2) TRANSFORM DATA"
      ],
      "metadata": {
        "id": "IlzF1jyM5aI1"
      }
    },
    {
      "cell_type": "code",
      "source": [
        "# For 2019 files is necessary rename few columns\n",
        "\n",
        "# saresp2019_df.rename(columns={\n",
        "#     'SERIE':'SERIE_ANO',\n",
        "#     'VALIDADE':'validade'},\n",
        "#     inplace=True)"
      ],
      "metadata": {
        "id": "QjLYLv6t3Dme"
      },
      "execution_count": null,
      "outputs": []
    },
    {
      "cell_type": "code",
      "source": [
        "# Check data types for each column\n",
        "saresp2021_df.info()"
      ],
      "metadata": {
        "id": "szB6L8ev3Y4v"
      },
      "execution_count": null,
      "outputs": []
    },
    {
      "cell_type": "code",
      "source": [
        "# For 2019 files, replace \",\" by \".\" for future float values (not get an error when converting object into float)\n",
        "\n",
        "#saresp2019_df['profic_lp'] = saresp2019_df['profic_lp'].apply(lambda x: str(x).replace(\",\",\".\"))\n",
        "#saresp2021_df['profic_mat'] = saresp2021_df['profic_mat'].apply(lambda x: str(x).replace(\",\",\".\"))"
      ],
      "metadata": {
        "id": "SuL6PlzL3hMy"
      },
      "execution_count": null,
      "outputs": []
    },
    {
      "cell_type": "code",
      "source": [
        "# For 2019 files, change data type (object >>> float)\n",
        "\n",
        "# saresp2019_df['profic_lp'] = pd.to_numeric(saresp2019_df['profic_lp'], errors='coerce')\n",
        "# saresp2019_df['profic_mat'] = pd.to_numeric(saresp2019_df['profic_mat'], errors='coerce')"
      ],
      "metadata": {
        "id": "cTUsieZe3zW1"
      },
      "execution_count": null,
      "outputs": []
    },
    {
      "cell_type": "code",
      "source": [
        "# For 2019 files, replace \"Gender\" column values (to match those in others files)\n",
        "\n",
        "# saresp2019_df['TP_SEXO'].replace(['1', '2'],['F', 'M'])"
      ],
      "metadata": {
        "id": "-uCcbuYK3_Ji"
      },
      "execution_count": null,
      "outputs": []
    },
    {
      "cell_type": "code",
      "source": [
        "# Group data by year\n",
        "grupos = saresp2021_df.groupby('SERIE_ANO')"
      ],
      "metadata": {
        "id": "6A41r3FDubZY"
      },
      "execution_count": null,
      "outputs": []
    },
    {
      "cell_type": "code",
      "source": [
        "# Checking size created's groups\n",
        "grupos.size()"
      ],
      "metadata": {
        "id": "oJp5ZMDLfFxQ"
      },
      "execution_count": null,
      "outputs": []
    },
    {
      "cell_type": "code",
      "source": [
        "# Record 9th grade group in memory\n",
        "grupo9 = grupos.get_group('9º Ano EF')"
      ],
      "metadata": {
        "id": "-JrUnOcX2M8h"
      },
      "execution_count": null,
      "outputs": []
    },
    {
      "cell_type": "code",
      "source": [
        "# Record senior year group in memory\n",
        "grupoem = grupos.get_group('EM-3ª série')"
      ],
      "metadata": {
        "id": "MyvMQcDkg34B"
      },
      "execution_count": null,
      "outputs": []
    },
    {
      "cell_type": "code",
      "source": [
        "# Insert reference year column in each file\n",
        "grupo9.insert(1, 'Ano', 2021)\n",
        "grupoem.insert(1, 'Ano', 2021)"
      ],
      "metadata": {
        "id": "kSb_ydUW2RWy"
      },
      "execution_count": null,
      "outputs": []
    },
    {
      "cell_type": "markdown",
      "source": [
        "## 3) SAVE DATA AS LOCAL FILES\n"
      ],
      "metadata": {
        "id": "Tz3GQhXY5Lqd"
      }
    },
    {
      "cell_type": "code",
      "source": [
        "#Saving data structure as local csv file\n",
        "grupo9.to_csv('/content/drive/MyDrive/SARESP - Avaliação pentanual/Ano 2/2021_9.csv', encoding='utf-8', index=False)"
      ],
      "metadata": {
        "id": "9Nf-Vk0p2RHE"
      },
      "execution_count": null,
      "outputs": []
    },
    {
      "cell_type": "code",
      "source": [
        "#Saving data structure as local csv file\n",
        "grupoem.to_csv('/content/drive/MyDrive/SARESP - Avaliação pentanual/Ano 2/2021_em.csv', encoding='utf-8', index=False)"
      ],
      "metadata": {
        "id": "c3_nLnMEhHUx"
      },
      "execution_count": null,
      "outputs": []
    }
  ]
}
